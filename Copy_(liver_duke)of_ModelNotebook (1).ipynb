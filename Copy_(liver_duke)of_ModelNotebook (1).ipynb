{
  "cells": [
    {
      "cell_type": "code",
      "execution_count": null,
      "metadata": {
        "id": "0aTolLdoeHT8"
      },
      "outputs": [],
      "source": [],
      "id": "0aTolLdoeHT8"
    },
    {
      "cell_type": "code",
      "execution_count": null,
      "metadata": {
        "id": "sXxGMvMoS7FW"
      },
      "outputs": [],
      "source": [],
      "id": "sXxGMvMoS7FW"
    },
    {
      "cell_type": "code",
      "execution_count": null,
      "metadata": {
        "colab": {
          "base_uri": "https://localhost:8080/"
        },
        "id": "1EbvvjE7NO8_",
        "outputId": "fe720afa-4b13-471a-823e-0d2a20d19766"
      },
      "outputs": [
        {
          "output_type": "stream",
          "name": "stdout",
          "text": [
            "Drive already mounted at /content/drive; to attempt to forcibly remount, call drive.mount(\"/content/drive\", force_remount=True).\n"
          ]
        }
      ],
      "source": [
        "## changed to upload drive\n",
        "## where our dataset will be present, update data path accordingly\n",
        "from google.colab import drive\n",
        "drive.mount('/content/drive')"
      ],
      "id": "1EbvvjE7NO8_"
    },
    {
      "cell_type": "code",
      "execution_count": null,
      "metadata": {
        "id": "-EvUS5nSNIMO"
      },
      "outputs": [],
      "source": [
        "## system path will be added with current folder's path so import will be successfyl\n",
        "import sys\n",
        "sys.path.append('/content/drive/MyDrive/DUCK-Net-main/')"
      ],
      "id": "-EvUS5nSNIMO"
    },
    {
      "cell_type": "code",
      "execution_count": null,
      "metadata": {
        "colab": {
          "base_uri": "https://localhost:8080/"
        },
        "id": "GRRvXnwMwc-r",
        "outputId": "499d7800-9ea9-4db8-d5f1-3272fc181376"
      },
      "outputs": [
        {
          "output_type": "stream",
          "name": "stdout",
          "text": [
            "Requirement already satisfied: keras==2.10.0 in /usr/local/lib/python3.10/dist-packages (2.10.0)\n"
          ]
        }
      ],
      "source": [
        "!pip install keras==2.10.0"
      ],
      "id": "GRRvXnwMwc-r"
    },
    {
      "cell_type": "code",
      "execution_count": null,
      "metadata": {
        "colab": {
          "base_uri": "https://localhost:8080/"
        },
        "id": "VKWKsMNfw3qd",
        "outputId": "f2d4c339-78a2-472b-f1ec-d138cffc72f7"
      },
      "outputs": [
        {
          "output_type": "stream",
          "name": "stdout",
          "text": [
            "Requirement already satisfied: tensorflow==2.10.0 in /usr/local/lib/python3.10/dist-packages (2.10.0)\n",
            "Requirement already satisfied: absl-py>=1.0.0 in /usr/local/lib/python3.10/dist-packages (from tensorflow==2.10.0) (1.4.0)\n",
            "Requirement already satisfied: astunparse>=1.6.0 in /usr/local/lib/python3.10/dist-packages (from tensorflow==2.10.0) (1.6.3)\n",
            "Requirement already satisfied: flatbuffers>=2.0 in /usr/local/lib/python3.10/dist-packages (from tensorflow==2.10.0) (23.5.26)\n",
            "Requirement already satisfied: gast<=0.4.0,>=0.2.1 in /usr/local/lib/python3.10/dist-packages (from tensorflow==2.10.0) (0.4.0)\n",
            "Requirement already satisfied: google-pasta>=0.1.1 in /usr/local/lib/python3.10/dist-packages (from tensorflow==2.10.0) (0.2.0)\n",
            "Requirement already satisfied: grpcio<2.0,>=1.24.3 in /usr/local/lib/python3.10/dist-packages (from tensorflow==2.10.0) (1.59.2)\n",
            "Requirement already satisfied: h5py>=2.9.0 in /usr/local/lib/python3.10/dist-packages (from tensorflow==2.10.0) (3.9.0)\n",
            "Requirement already satisfied: keras<2.11,>=2.10.0 in /usr/local/lib/python3.10/dist-packages (from tensorflow==2.10.0) (2.10.0)\n",
            "Requirement already satisfied: keras-preprocessing>=1.1.1 in /usr/local/lib/python3.10/dist-packages (from tensorflow==2.10.0) (1.1.2)\n",
            "Requirement already satisfied: libclang>=13.0.0 in /usr/local/lib/python3.10/dist-packages (from tensorflow==2.10.0) (16.0.6)\n",
            "Requirement already satisfied: numpy>=1.20 in /usr/local/lib/python3.10/dist-packages (from tensorflow==2.10.0) (1.23.5)\n",
            "Requirement already satisfied: opt-einsum>=2.3.2 in /usr/local/lib/python3.10/dist-packages (from tensorflow==2.10.0) (3.3.0)\n",
            "Requirement already satisfied: packaging in /usr/local/lib/python3.10/dist-packages (from tensorflow==2.10.0) (23.2)\n",
            "Requirement already satisfied: protobuf<3.20,>=3.9.2 in /usr/local/lib/python3.10/dist-packages (from tensorflow==2.10.0) (3.19.6)\n",
            "Requirement already satisfied: setuptools in /usr/local/lib/python3.10/dist-packages (from tensorflow==2.10.0) (67.7.2)\n",
            "Requirement already satisfied: six>=1.12.0 in /usr/local/lib/python3.10/dist-packages (from tensorflow==2.10.0) (1.16.0)\n",
            "Requirement already satisfied: tensorboard<2.11,>=2.10 in /usr/local/lib/python3.10/dist-packages (from tensorflow==2.10.0) (2.10.1)\n",
            "Requirement already satisfied: tensorflow-io-gcs-filesystem>=0.23.1 in /usr/local/lib/python3.10/dist-packages (from tensorflow==2.10.0) (0.34.0)\n",
            "Requirement already satisfied: tensorflow-estimator<2.11,>=2.10.0 in /usr/local/lib/python3.10/dist-packages (from tensorflow==2.10.0) (2.10.0)\n",
            "Requirement already satisfied: termcolor>=1.1.0 in /usr/local/lib/python3.10/dist-packages (from tensorflow==2.10.0) (2.3.0)\n",
            "Requirement already satisfied: typing-extensions>=3.6.6 in /usr/local/lib/python3.10/dist-packages (from tensorflow==2.10.0) (4.5.0)\n",
            "Requirement already satisfied: wrapt>=1.11.0 in /usr/local/lib/python3.10/dist-packages (from tensorflow==2.10.0) (1.14.1)\n",
            "Requirement already satisfied: wheel<1.0,>=0.23.0 in /usr/local/lib/python3.10/dist-packages (from astunparse>=1.6.0->tensorflow==2.10.0) (0.41.3)\n",
            "Requirement already satisfied: google-auth<3,>=1.6.3 in /usr/local/lib/python3.10/dist-packages (from tensorboard<2.11,>=2.10->tensorflow==2.10.0) (2.17.3)\n",
            "Requirement already satisfied: google-auth-oauthlib<0.5,>=0.4.1 in /usr/local/lib/python3.10/dist-packages (from tensorboard<2.11,>=2.10->tensorflow==2.10.0) (0.4.6)\n",
            "Requirement already satisfied: markdown>=2.6.8 in /usr/local/lib/python3.10/dist-packages (from tensorboard<2.11,>=2.10->tensorflow==2.10.0) (3.5.1)\n",
            "Requirement already satisfied: requests<3,>=2.21.0 in /usr/local/lib/python3.10/dist-packages (from tensorboard<2.11,>=2.10->tensorflow==2.10.0) (2.31.0)\n",
            "Requirement already satisfied: tensorboard-data-server<0.7.0,>=0.6.0 in /usr/local/lib/python3.10/dist-packages (from tensorboard<2.11,>=2.10->tensorflow==2.10.0) (0.6.1)\n",
            "Requirement already satisfied: tensorboard-plugin-wit>=1.6.0 in /usr/local/lib/python3.10/dist-packages (from tensorboard<2.11,>=2.10->tensorflow==2.10.0) (1.8.1)\n",
            "Requirement already satisfied: werkzeug>=1.0.1 in /usr/local/lib/python3.10/dist-packages (from tensorboard<2.11,>=2.10->tensorflow==2.10.0) (3.0.1)\n",
            "Requirement already satisfied: cachetools<6.0,>=2.0.0 in /usr/local/lib/python3.10/dist-packages (from google-auth<3,>=1.6.3->tensorboard<2.11,>=2.10->tensorflow==2.10.0) (5.3.2)\n",
            "Requirement already satisfied: pyasn1-modules>=0.2.1 in /usr/local/lib/python3.10/dist-packages (from google-auth<3,>=1.6.3->tensorboard<2.11,>=2.10->tensorflow==2.10.0) (0.3.0)\n",
            "Requirement already satisfied: rsa<5,>=3.1.4 in /usr/local/lib/python3.10/dist-packages (from google-auth<3,>=1.6.3->tensorboard<2.11,>=2.10->tensorflow==2.10.0) (4.9)\n",
            "Requirement already satisfied: requests-oauthlib>=0.7.0 in /usr/local/lib/python3.10/dist-packages (from google-auth-oauthlib<0.5,>=0.4.1->tensorboard<2.11,>=2.10->tensorflow==2.10.0) (1.3.1)\n",
            "Requirement already satisfied: charset-normalizer<4,>=2 in /usr/local/lib/python3.10/dist-packages (from requests<3,>=2.21.0->tensorboard<2.11,>=2.10->tensorflow==2.10.0) (3.3.2)\n",
            "Requirement already satisfied: idna<4,>=2.5 in /usr/local/lib/python3.10/dist-packages (from requests<3,>=2.21.0->tensorboard<2.11,>=2.10->tensorflow==2.10.0) (3.4)\n",
            "Requirement already satisfied: urllib3<3,>=1.21.1 in /usr/local/lib/python3.10/dist-packages (from requests<3,>=2.21.0->tensorboard<2.11,>=2.10->tensorflow==2.10.0) (2.0.7)\n",
            "Requirement already satisfied: certifi>=2017.4.17 in /usr/local/lib/python3.10/dist-packages (from requests<3,>=2.21.0->tensorboard<2.11,>=2.10->tensorflow==2.10.0) (2023.7.22)\n",
            "Requirement already satisfied: MarkupSafe>=2.1.1 in /usr/local/lib/python3.10/dist-packages (from werkzeug>=1.0.1->tensorboard<2.11,>=2.10->tensorflow==2.10.0) (2.1.3)\n",
            "Requirement already satisfied: pyasn1<0.6.0,>=0.4.6 in /usr/local/lib/python3.10/dist-packages (from pyasn1-modules>=0.2.1->google-auth<3,>=1.6.3->tensorboard<2.11,>=2.10->tensorflow==2.10.0) (0.5.0)\n",
            "Requirement already satisfied: oauthlib>=3.0.0 in /usr/local/lib/python3.10/dist-packages (from requests-oauthlib>=0.7.0->google-auth-oauthlib<0.5,>=0.4.1->tensorboard<2.11,>=2.10->tensorflow==2.10.0) (3.2.2)\n"
          ]
        }
      ],
      "source": [
        "!pip install tensorflow==2.10.0"
      ],
      "id": "VKWKsMNfw3qd"
    },
    {
      "cell_type": "code",
      "execution_count": null,
      "metadata": {
        "colab": {
          "base_uri": "https://localhost:8080/"
        },
        "id": "zBZvk_G7nIAI",
        "outputId": "dd39be1a-5a3f-4ad2-c1a1-a19184c3b555"
      },
      "outputs": [
        {
          "output_type": "stream",
          "name": "stdout",
          "text": [
            "/content/drive/MyDrive/DUCK-Net-main\n"
          ]
        }
      ],
      "source": [
        "\n",
        "%cd /content/drive/MyDrive/DUCK-Net-main/"
      ],
      "id": "zBZvk_G7nIAI"
    },
    {
      "cell_type": "code",
      "execution_count": null,
      "metadata": {
        "id": "857a5f70"
      },
      "outputs": [],
      "source": [
        "# Importing the necessary libraries\n",
        "\n",
        "import tensorflow as tf\n",
        "import albumentations as albu\n",
        "import numpy as np\n",
        "import gc\n",
        "import pickle\n",
        "import matplotlib.pyplot as plt\n",
        "from keras.callbacks import CSVLogger\n",
        "from datetime import datetime\n",
        "from sklearn.model_selection import train_test_split\n",
        "from sklearn.metrics import jaccard_score, precision_score, recall_score, accuracy_score, f1_score\n",
        "from ModelArchitecture.DiceLoss import dice_metric_loss\n",
        "from ModelArchitecture import DUCK_Net\n",
        "from ImageLoader import ImageLoader2D\n"
      ],
      "id": "857a5f70"
    },
    {
      "cell_type": "code",
      "execution_count": null,
      "metadata": {
        "id": "FLZVkGqbxA06"
      },
      "outputs": [],
      "source": [
        "import glob\n",
        "\n",
        "import numpy as np\n",
        "from PIL import Image\n",
        "from skimage.io import imread\n",
        "from tqdm import tqdm\n",
        "import os\n",
        "\n",
        "\n",
        "folder_path = \"Liver duke processes/\"  # Add the path to your data directory\n",
        "\n",
        "\n",
        "def load_data(img_height, img_width, images_to_be_loaded, dataset):\n",
        "    IMAGES_PATH = folder_path + 'images/'\n",
        "    MASKS_PATH = folder_path + 'masks/'\n",
        "\n",
        "    if dataset == 'kvasir':\n",
        "        train_ids = glob.glob(IMAGES_PATH + \"*.jpg\")\n",
        "\n",
        "    if dataset == 'Liver Duke':\n",
        "        train_ids = glob.glob(IMAGES_PATH + \"*.jpg\")\n",
        "\n",
        "    if dataset == 'cvc-clinicdb':\n",
        "        train_ids = glob.glob(IMAGES_PATH + \"*.tif\")\n",
        "\n",
        "    if dataset == 'cvc-colondb' or dataset == 'etis-laribpolypdb':\n",
        "        train_ids = glob.glob(IMAGES_PATH + \"*.png\")\n",
        "\n",
        "    if images_to_be_loaded == -1:\n",
        "        images_to_be_loaded = 1500#len(train_ids)##earlier 10 #train_ids\n",
        "\n",
        "    X_train = np.zeros((images_to_be_loaded, img_height, img_width, 3), dtype=np.float32)\n",
        "    Y_train = np.zeros((images_to_be_loaded, img_height, img_width), dtype=np.uint8)\n",
        "\n",
        "    print('Resizing training images and masks: ' + str(images_to_be_loaded))\n",
        "    for n, id_ in tqdm(enumerate(train_ids)):#train_ids\n",
        "        if n == images_to_be_loaded:\n",
        "            break\n",
        "\n",
        "        image_path = id_\n",
        "        mask_path = image_path.replace(\"images\", \"masks\")\n",
        "\n",
        "        image = imread(image_path)\n",
        "        #mask_ = imread(mask_path)\n",
        "        mask_ = imread(mask_path)\n",
        "\n",
        "        mask = np.zeros((img_height, img_width), dtype=np.bool_)\n",
        "\n",
        "        pillow_image = Image.fromarray(image)\n",
        "\n",
        "        pillow_image = pillow_image.resize((img_height, img_width))\n",
        "        image = np.array(pillow_image)\n",
        "\n",
        "        X_train[n] = image / 255\n",
        "\n",
        "\n",
        "\n",
        "        pillow_mask = Image.fromarray(mask_)\n",
        "        pillow_mask = pillow_mask.resize((img_height, img_width), resample=Image.LANCZOS)\n",
        "        mask_ = np.array(pillow_mask)\n",
        "\n",
        "        for i in range(img_height):\n",
        "            for j in range(img_width):\n",
        "                if (mask_[i, j] >= 127):\n",
        "                    mask[i, j] = 1\n",
        "\n",
        "        Y_train[n] = mask\n",
        "\n",
        "    Y_train = np.expand_dims(Y_train, axis=-1)\n",
        "\n",
        "    return X_train, Y_train\n"
      ],
      "id": "FLZVkGqbxA06"
    },
    {
      "cell_type": "code",
      "execution_count": null,
      "metadata": {
        "colab": {
          "base_uri": "https://localhost:8080/"
        },
        "id": "7852dbbf-f3a4-4db6-8c5e-98889bf3abd4",
        "outputId": "233145df-3463-4812-b393-8c2afa3c62a0"
      },
      "outputs": [
        {
          "output_type": "stream",
          "name": "stdout",
          "text": [
            "Num GPUs Available:  1\n"
          ]
        }
      ],
      "source": [
        "# Checking the number of GPUs available\n",
        "\n",
        "print(\"Num GPUs Available: \", len(tf.config.list_physical_devices('GPU')))"
      ],
      "id": "7852dbbf-f3a4-4db6-8c5e-98889bf3abd4"
    },
    {
      "cell_type": "code",
      "execution_count": null,
      "metadata": {
        "id": "9edbe667"
      },
      "outputs": [],
      "source": [
        "# Setting the model parameters\n",
        "\n",
        "img_size = 352\n",
        "dataset_type = 'Liver Duke' # Options: kvasir/cvc-clinicdb/cvc-colondb/etis-laribpolypdb\n",
        "learning_rate = 1e-4\n",
        "seed_value = 58800\n",
        "filters = 17 # Number of filters, the paper presents the results with 17 and 34\n",
        "optimizer = tf.keras.optimizers.RMSprop(learning_rate=learning_rate)\n",
        "\n",
        "ct = datetime.now()\n",
        "\n",
        "model_type = \"DuckNet\"\n",
        "\n",
        "progress_path = 'ProgressFull/' + dataset_type + '_progress_csv_' + model_type + '_filters_' + str(filters) +  '_' + str(ct) + '.csv'\n",
        "progressfull_path = 'ProgressFull/' + dataset_type + '_progress_' + model_type + '_filters_' + str(filters) + '_' + str(ct) + '.txt'\n",
        "plot_path = 'ProgressFull/' + dataset_type + '_progress_plot_' + model_type + '_filters_' + str(filters) + '_' + str(ct) + '.png'\n",
        "model_path = 'ModelSaveTensorFlow/' + dataset_type + '/' + model_type + '_filters_' + str(filters) + '_' + str(ct)\n",
        "\n",
        "EPOCHS = 600\n",
        "min_loss_for_saving = 0.3"
      ],
      "id": "9edbe667"
    },
    {
      "cell_type": "code",
      "execution_count": null,
      "metadata": {
        "colab": {
          "base_uri": "https://localhost:8080/"
        },
        "id": "XMUc_Q-i5jcn",
        "outputId": "02acace2-3cfa-421d-964d-24ddd013c5ff"
      },
      "outputs": [
        {
          "output_type": "stream",
          "name": "stdout",
          "text": [
            "/content/drive/MyDrive/DUCK-Net-main/ImageLoader\n"
          ]
        }
      ],
      "source": [
        "%cd /content/drive/MyDrive/DUCK-Net-main/ImageLoader"
      ],
      "id": "XMUc_Q-i5jcn"
    },
    {
      "cell_type": "code",
      "execution_count": null,
      "metadata": {
        "colab": {
          "base_uri": "https://localhost:8080/"
        },
        "id": "264050d8",
        "outputId": "0fcda6ec-af13-4d50-dee8-56f5e181bbef"
      },
      "outputs": [
        {
          "output_type": "stream",
          "name": "stdout",
          "text": [
            "Resizing training images and masks: 1500\n"
          ]
        },
        {
          "output_type": "stream",
          "name": "stderr",
          "text": [
            "1500it [09:54,  2.52it/s]\n"
          ]
        }
      ],
      "source": [
        "# Loading the data\n",
        "\n",
        "X, Y = load_data(img_size, img_size, -1, 'Liver Duke')"
      ],
      "id": "264050d8"
    },
    {
      "cell_type": "code",
      "execution_count": null,
      "metadata": {
        "colab": {
          "base_uri": "https://localhost:8080/",
          "height": 302
        },
        "id": "ynnPr2xxX1YX",
        "outputId": "45fad1d7-48be-42a9-970b-57761684041e"
      },
      "outputs": [
        {
          "output_type": "stream",
          "name": "stdout",
          "text": [
            "Dimensions of the selected image: 352 x 352\n"
          ]
        },
        {
          "output_type": "display_data",
          "data": {
            "text/plain": [
              "<Figure size 640x480 with 2 Axes>"
            ],
            "image/png": "[encoded data removed]"
          },
          "metadata": {}
        }
      ],
      "source": [
        "import matplotlib.pyplot as plt\n",
        "\n",
        "# Assuming X is a list/array of images and Y is the corresponding masks\n",
        "# Let's say you want to visualize the first image and its mask:\n",
        "image_to_display = X[8]\n",
        "mask_to_display = Y[8]\n",
        "\n",
        "\n",
        "\n",
        "\n",
        "\n",
        "# Get the dimensions of the image\n",
        "height, width = image_to_display.shape[:2]\n",
        "print(f'Dimensions of the selected image: {width} x {height}')\n",
        "\n",
        "\n",
        "# Display the original image\n",
        "plt.subplot(1, 2, 1)\n",
        "plt.imshow(image_to_display)\n",
        "plt.title('Original Image')\n",
        "plt.axis('off')\n",
        "\n",
        "# Display the mask\n",
        "plt.subplot(1, 2, 2)\n",
        "plt.imshow(mask_to_display, cmap='gray',vmin=0,vmax = 1)  # Assuming masks are in grayscale\n",
        "plt.title('Mask')\n",
        "plt.axis('off')\n",
        "\n",
        "plt.show()\n"
      ],
      "id": "ynnPr2xxX1YX"
    },
    {
      "cell_type": "code",
      "execution_count": null,
      "metadata": {
        "id": "75b6c029"
      },
      "outputs": [],
      "source": [
        "\n",
        "\n",
        "# Splitting the data, seed for reproducibility\n",
        "\n",
        "x_train, x_test, y_train, y_test = train_test_split(X, Y, test_size=0.1, shuffle= True, random_state = seed_value)\n",
        "x_train, x_valid, y_train, y_valid = train_test_split(x_train, y_train, test_size=0.111, shuffle= True, random_state = seed_value)"
      ],
      "id": "75b6c029"
    },
    {
      "cell_type": "code",
      "execution_count": null,
      "metadata": {
        "id": "92a7b7d0"
      },
      "outputs": [],
      "source": [
        "# Defining the augmentations\n",
        "import cv2\n",
        "\n",
        "aug_train = albu.Compose([\n",
        "    albu.HorizontalFlip(),\n",
        "    albu.VerticalFlip(),\n",
        "    albu.ColorJitter(brightness=(0.6,1.6), contrast=0.2, saturation=0.1, hue=0.01, always_apply=True),\n",
        "    albu.Affine(scale=(0.5,1.5), translate_percent=(-0.125,0.125), rotate=(-180,180), shear=(-22.5,22), always_apply=True),\n",
        "\n",
        "\n",
        "])\n",
        "\n",
        "def augment_images():\n",
        "    x_train_out = []\n",
        "    y_train_out = []\n",
        "\n",
        "    for i in range (len(x_train)):\n",
        "        ug = aug_train(image=x_train[i], mask=y_train[i])\n",
        "        x_train_out.append(ug['image'])\n",
        "        y_train_out.append(ug['mask'])\n",
        "\n",
        "    return np.array(x_train_out), np.array(y_train_out)"
      ],
      "id": "92a7b7d0"
    },
    {
      "cell_type": "code",
      "execution_count": null,
      "metadata": {
        "colab": {
          "base_uri": "https://localhost:8080/"
        },
        "id": "1609dd32",
        "outputId": "600ce80b-3136-49ff-e337-8c0fe54fd4fc"
      },
      "outputs": [
        {
          "output_type": "stream",
          "name": "stdout",
          "text": [
            "Starting DUCK-Net\n"
          ]
        }
      ],
      "source": [
        "# Creating the model\n",
        "\n",
        "model = DUCK_Net.create_model(img_height=img_size, img_width=img_size, input_chanels=3, out_classes=1, starting_filters=filters)"
      ],
      "id": "1609dd32"
    },
    {
      "cell_type": "code",
      "execution_count": null,
      "metadata": {
        "id": "2e513d42"
      },
      "outputs": [],
      "source": [
        "# Compiling the model\n",
        "\n",
        "model.compile(optimizer=optimizer, loss=dice_metric_loss)"
      ],
      "id": "2e513d42"
    },
    {
      "cell_type": "code",
      "execution_count": null,
      "metadata": {
        "colab": {
          "base_uri": "https://localhost:8080/"
        },
        "id": "QA9Wg5ZfqiVU",
        "outputId": "e6a5843a-c355-4c53-9f66-b0477a9d52f0"
      },
      "outputs": [
        {
          "output_type": "stream",
          "name": "stdout",
          "text": [
            "/content/drive/MyDrive/DUCK-Net-main\n"
          ]
        }
      ],
      "source": [
        "%cd /content/drive/MyDrive/DUCK-Net-main"
      ],
      "id": "QA9Wg5ZfqiVU"
    },
    {
      "cell_type": "code",
      "execution_count": null,
      "metadata": {
        "id": "ssQn26dYrMIw"
      },
      "outputs": [],
      "source": [
        "from tensorflow.python.framework import tensor_util\n",
        "def is_tensor(x):\n",
        "    return tensor_util.is_tensor(x)\n",
        "    #return isinstance(x, tf_ops._TensorLike) or tf_ops.is_dense_tensor_like(x)"
      ],
      "id": "ssQn26dYrMIw"
    },
    {
      "cell_type": "code",
      "source": [
        "!nvidia-smi\n",
        "min_loss_for_saving=0.6"
      ],
      "metadata": {
        "colab": {
          "base_uri": "https://localhost:8080/"
        },
        "id": "W0LEvAySNpqQ",
        "outputId": "32c82f59-71fc-40ae-f8aa-e3219c5f83c9"
      },
      "id": "W0LEvAySNpqQ",
      "execution_count": null,
      "outputs": [
        {
          "output_type": "stream",
          "name": "stdout",
          "text": [
            "Mon Nov 20 05:39:33 2023       \n",
            "+-----------------------------------------------------------------------------+\n",
            "| NVIDIA-SMI 525.105.17   Driver Version: 525.105.17   CUDA Version: 12.0     |\n",
            "|-------------------------------+----------------------+----------------------+\n",
            "| GPU  Name        Persistence-M| Bus-Id        Disp.A | Volatile Uncorr. ECC |\n",
            "| Fan  Temp  Perf  Pwr:Usage/Cap|         Memory-Usage | GPU-Util  Compute M. |\n",
            "|                               |                      |               MIG M. |\n",
            "|===============================+======================+======================|\n",
            "|   0  Tesla T4            Off  | 00000000:00:04.0 Off |                    0 |\n",
            "| N/A   44C    P0    27W /  70W |    555MiB / 15360MiB |      0%      Default |\n",
            "|                               |                      |                  N/A |\n",
            "+-------------------------------+----------------------+----------------------+\n",
            "                                                                               \n",
            "+-----------------------------------------------------------------------------+\n",
            "| Processes:                                                                  |\n",
            "|  GPU   GI   CI        PID   Type   Process name                  GPU Memory |\n",
            "|        ID   ID                                                   Usage      |\n",
            "|=============================================================================|\n",
            "+-----------------------------------------------------------------------------+\n"
          ]
        }
      ]
    },
    {
      "cell_type": "code",
      "execution_count": null,
      "metadata": {
        "colab": {
          "base_uri": "https://localhost:8080/"
        },
        "id": "6ef712b9",
        "outputId": "66c8b4e9-dba1-4bdd-a11e-14b478800f33"
      },
      "outputs": [
        {
          "output_type": "stream",
          "name": "stdout",
          "text": [
            "Training, epoch 0\n",
            "Learning Rate: 0.0001\n",
            "400/400 [==============================] - 383s 771ms/step - loss: 0.8352 - val_loss: 0.9625\n",
            "Loss Validation: 0.96147853\n",
            "Loss Test: 0.9619266\n",
            "Training, epoch 1\n",
            "Learning Rate: 0.0001\n",
            "400/400 [==============================] - 304s 759ms/step - loss: 0.7861 - val_loss: 0.7820\n",
            "Loss Validation: 0.74315345\n",
            "Loss Test: 0.75736773\n",
            "Training, epoch 2\n",
            "Learning Rate: 0.0001\n",
            "400/400 [==============================] - 304s 759ms/step - loss: 0.7436 - val_loss: 0.7817\n",
            "Loss Validation: 0.7531979\n",
            "Loss Test: 0.80392396\n",
            "Training, epoch 3\n",
            "Learning Rate: 0.0001\n",
            "400/400 [==============================] - 303s 758ms/step - loss: 0.7152 - val_loss: 0.6288\n",
            "Loss Validation: 0.55977106\n",
            "Loss Test: 0.58558565\n",
            "Saved model with val_loss:  0.55977106\n",
            "Training, epoch 4\n",
            "Learning Rate: 0.0001\n",
            "400/400 [==============================] - 303s 758ms/step - loss: 0.6880 - val_loss: 0.6439\n",
            "Loss Validation: 0.59636474\n",
            "Loss Test: 0.6259522\n",
            "Training, epoch 5\n",
            "Learning Rate: 0.0001\n",
            "400/400 [==============================] - 303s 758ms/step - loss: 0.6598 - val_loss: 0.5766\n",
            "Loss Validation: 0.4963802\n",
            "Loss Test: 0.5243281\n",
            "Saved model with val_loss:  0.4963802\n",
            "Training, epoch 6\n",
            "Learning Rate: 0.0001\n",
            "400/400 [==============================] - 303s 758ms/step - loss: 0.6170 - val_loss: 0.5821\n",
            "Loss Validation: 0.51372564\n",
            "Loss Test: 0.5265378\n",
            "Training, epoch 7\n",
            "Learning Rate: 0.0001\n",
            "400/400 [==============================] - 303s 758ms/step - loss: 0.6239 - val_loss: 0.7343\n",
            "Loss Validation: 0.64682436\n",
            "Loss Test: 0.6576251\n",
            "Training, epoch 8\n",
            "Learning Rate: 0.0001\n",
            "400/400 [==============================] - 303s 758ms/step - loss: 0.5935 - val_loss: 0.5151\n",
            "Loss Validation: 0.3834679\n",
            "Loss Test: 0.38889247\n",
            "Saved model with val_loss:  0.3834679\n",
            "Training, epoch 9\n",
            "Learning Rate: 0.0001\n",
            "400/400 [==============================] - 303s 758ms/step - loss: 0.5883 - val_loss: 0.5827\n",
            "Loss Validation: 0.5045269\n",
            "Loss Test: 0.52347976\n",
            "Training, epoch 10\n",
            "Learning Rate: 0.0001\n",
            "400/400 [==============================] - 303s 758ms/step - loss: 0.5763 - val_loss: 0.4696\n",
            "Loss Validation: 0.31095135\n",
            "Loss Test: 0.2955035\n",
            "Saved model with val_loss:  0.31095135\n"
          ]
        }
      ],
      "source": [
        "# Training the model\n",
        "\n",
        "\n",
        "\n",
        "step = 0\n",
        "\n",
        "for epoch in range(0,11):#200 kariyo later\n",
        "\n",
        "    print(f'Training, epoch {epoch}')\n",
        "    print('Learning Rate: ' + str(learning_rate))\n",
        "\n",
        "    step += 1\n",
        "\n",
        "    image_augmented, mask_augmented = augment_images()\n",
        "\n",
        "    csv_logger = CSVLogger(progress_path, append=True, separator=';')\n",
        "\n",
        "    model.fit(x=image_augmented, y=mask_augmented, epochs=1, batch_size=3, validation_data=(x_valid, y_valid), verbose=1, callbacks=[csv_logger])#batch size increse kar sakti to increse accuracy\n",
        "#earlier batch size = 4\n",
        "    prediction_valid = model.predict(x_valid, verbose=0)\n",
        "    loss_valid = dice_metric_loss(y_valid, prediction_valid)\n",
        "\n",
        "    loss_valid = loss_valid.numpy()\n",
        "    print(\"Loss Validation: \" + str(loss_valid))\n",
        "\n",
        "    prediction_test = model.predict(x_test, verbose=0)\n",
        "    loss_test = dice_metric_loss(y_test, prediction_test)\n",
        "    loss_test = loss_test.numpy()\n",
        "    print(\"Loss Test: \" + str(loss_test))\n",
        "\n",
        "    with open(progressfull_path, 'a') as f:\n",
        "        f.write('epoch: ' + str(epoch) + '\\nval_loss: ' + str(loss_valid) + '\\ntest_loss: ' + str(loss_test) + '\\n\\n\\n')\n",
        "\n",
        "    if min_loss_for_saving > loss_valid:\n",
        "        min_loss_for_saving = loss_valid\n",
        "        print(\"Saved model with val_loss: \", loss_valid)\n",
        "        model.save(\"DUCK-Net-main/ModelSaveTensorFlow/liver.h5\")#isko under if karna tha originally\n",
        "\n",
        "    del image_augmented\n",
        "    del mask_augmented\n",
        "\n",
        "    gc.collect()"
      ],
      "id": "6ef712b9"
    },
    {
      "cell_type": "code",
      "execution_count": null,
      "metadata": {
        "colab": {
          "base_uri": "https://localhost:8080/"
        },
        "id": "zbGc1S0-iRRN",
        "outputId": "fae7a687-ffcf-4135-8bbf-2d3faaff3981"
      },
      "outputs": [
        {
          "output_type": "stream",
          "name": "stdout",
          "text": [
            "Loading the model\n",
            "400/400 [==============================] - 84s 197ms/step\n",
            "50/50 [==============================] - 10s 194ms/step\n",
            "50/50 [==============================] - 10s 195ms/step\n",
            "Predictions done\n",
            "Dice finished\n",
            "Miou finished\n",
            "Precision finished\n",
            "Recall finished\n",
            "Accuracy finished\n",
            "results_DuckNet_17_Liver Duke.txt\n",
            "File done\n"
          ]
        }
      ],
      "source": [
        "# Computing the metrics and saving the results\n",
        "from ModelArchitecture.DiceLoss import dice_metric_loss\n",
        "\n",
        "print(\"Loading the model\")\n",
        "\n",
        "model_path = \"DUCK-Net-main/ModelSaveTensorFlow/liver.h5\"#earlier kvasir\n",
        "\n",
        "\n",
        "model = tf.keras.models.load_model(model_path, custom_objects={'dice_metric_loss':dice_metric_loss})\n",
        "\n",
        "\n",
        "\n",
        "prediction_train = model.predict(x_train, batch_size=3)#earlier 4\n",
        "prediction_valid = model.predict(x_valid, batch_size=3)#4\n",
        "prediction_test = model.predict(x_test, batch_size=3)#4\n",
        "\n",
        "print(\"Predictions done\")\n",
        "\n",
        "dice_train = f1_score(np.ndarray.flatten(np.array(y_train, dtype=bool)),\n",
        "                           np.ndarray.flatten(prediction_train > 0.5))\n",
        "dice_test = f1_score(np.ndarray.flatten(np.array(y_test, dtype=bool)),\n",
        "                          np.ndarray.flatten(prediction_test > 0.5))\n",
        "dice_valid = f1_score(np.ndarray.flatten(np.array(y_valid, dtype=bool)),\n",
        "                           np.ndarray.flatten(prediction_valid > 0.5))\n",
        "\n",
        "print(\"Dice finished\")\n",
        "\n",
        "\n",
        "miou_train = jaccard_score(np.ndarray.flatten(np.array(y_train, dtype=bool)),\n",
        "                           np.ndarray.flatten(prediction_train > 0.5))\n",
        "miou_test = jaccard_score(np.ndarray.flatten(np.array(y_test, dtype=bool)),\n",
        "                          np.ndarray.flatten(prediction_test > 0.5))\n",
        "miou_valid = jaccard_score(np.ndarray.flatten(np.array(y_valid, dtype=bool)),\n",
        "                           np.ndarray.flatten(prediction_valid > 0.5))\n",
        "\n",
        "print(\"Miou finished\")\n",
        "\n",
        "\n",
        "precision_train = precision_score(np.ndarray.flatten(np.array(y_train, dtype=bool)),\n",
        "                                  np.ndarray.flatten(prediction_train > 0.5))\n",
        "precision_test = precision_score(np.ndarray.flatten(np.array(y_test, dtype=bool)),\n",
        "                                 np.ndarray.flatten(prediction_test > 0.5))\n",
        "precision_valid = precision_score(np.ndarray.flatten(np.array(y_valid, dtype=bool)),\n",
        "                                  np.ndarray.flatten(prediction_valid > 0.5))\n",
        "\n",
        "print(\"Precision finished\")\n",
        "\n",
        "\n",
        "recall_train = recall_score(np.ndarray.flatten(np.array(y_train, dtype=bool)),\n",
        "                            np.ndarray.flatten(prediction_train > 0.5))\n",
        "recall_test = recall_score(np.ndarray.flatten(np.array(y_test, dtype=bool)),\n",
        "                           np.ndarray.flatten(prediction_test > 0.5))\n",
        "recall_valid = recall_score(np.ndarray.flatten(np.array(y_valid, dtype=bool)),\n",
        "                            np.ndarray.flatten(prediction_valid > 0.5))\n",
        "\n",
        "print(\"Recall finished\")\n",
        "\n",
        "\n",
        "accuracy_train = accuracy_score(np.ndarray.flatten(np.array(y_train, dtype=bool)),\n",
        "                                np.ndarray.flatten(prediction_train > 0.5))\n",
        "accuracy_test = accuracy_score(np.ndarray.flatten(np.array(y_test, dtype=bool)),\n",
        "                               np.ndarray.flatten(prediction_test > 0.5))\n",
        "accuracy_valid = accuracy_score(np.ndarray.flatten(np.array(y_valid, dtype=bool)),\n",
        "                                np.ndarray.flatten(prediction_valid > 0.5))\n",
        "\n",
        "\n",
        "print(\"Accuracy finished\")\n",
        "\n",
        "\n",
        "final_file = 'results_' + model_type + '_' + str(filters) + '_' + dataset_type + '.txt'\n",
        "print(final_file)\n",
        "\n",
        "with open(final_file, 'a') as f:\n",
        "    f.write(dataset_type + '\\n\\n')\n",
        "    f.write('dice_train: ' + str(dice_train) + ' dice_valid: ' + str(dice_valid) + ' dice_test: ' + str(dice_test) + '\\n\\n')\n",
        "    f.write('miou_train: ' + str(miou_train) + ' miou_valid: ' + str(miou_valid) + ' miou_test: ' + str(miou_test) + '\\n\\n')\n",
        "    f.write('precision_train: ' + str(precision_train) + ' precision_valid: ' + str(precision_valid) + ' precision_test: ' + str(precision_test) + '\\n\\n')\n",
        "    f.write('recall_train: ' + str(recall_train) + ' recall_valid: ' + str(recall_valid) + ' recall_test: ' + str(recall_test) + '\\n\\n')\n",
        "    f.write('accuracy_train: ' + str(accuracy_train) + ' accuracy_valid: ' + str(accuracy_valid) + ' accuracy_test: ' + str(accuracy_test) + '\\n\\n\\n\\n')\n",
        "\n",
        "print('File done')"
      ],
      "id": "zbGc1S0-iRRN"
    },
    {
      "cell_type": "code",
      "execution_count": null,
      "metadata": {
        "id": "9EmgZTwz-fPl"
      },
      "outputs": [],
      "source": [
        "#cd ../ ->to go one directory up"
      ],
      "id": "9EmgZTwz-fPl"
    },
    {
      "cell_type": "code",
      "execution_count": null,
      "metadata": {
        "id": "pOaSipFYnayY"
      },
      "outputs": [],
      "source": [
        "#ways to increse accuracy\n",
        "#Implementing learning rate schedulers like OneCycleLR or ReduceLROnPlateau in your deep learning model typically involves using popular deep learning frameworks like PyTorch or TensorFlow. Below, I'll provide examples for both frameworks:\n",
        "\n",
        "#PyTorch:"
      ],
      "id": "pOaSipFYnayY"
    },
    {
      "cell_type": "markdown",
      "metadata": {
        "id": "koGqbRkdVVqA"
      },
      "source": [
        "*#ways to increse accuracy\n",
        "#Implementing learning rate schedulers like OneCycleLR or ReduceLROnPlateau in your deep learning model typically involves using popular deep learning frameworks like PyTorch or TensorFlow. Below, I'll provide examples for both frameworks:\n",
        "\n",
        "#PyTorch:*\n",
        "OneCycleLR:\n",
        "OneCycleLR is a learning rate scheduler that varies the learning rate during training. To implement it in PyTorch, you can use the following code:\n",
        "\n",
        "python\n",
        "\n",
        "import torch\n",
        "from torch.optim import SGD\n",
        "from torch.optim.lr_scheduler import OneCycleLR\n",
        "\n",
        "# Define your model, optimizer, and dataloader\n",
        "model = ...\n",
        "optimizer = SGD(model.parameters(), lr=0.1, momentum=0.9)\n",
        "dataloader = ...\n",
        "\n",
        "# Create the OneCycleLR scheduler\n",
        "scheduler = OneCycleLR(optimizer, max_lr=0.1, total_steps=1000)\n",
        "\n",
        "# Inside your training loop\n",
        "for epoch in range(num_epochs):\n",
        "    for batch in dataloader:\n",
        "        # Forward and backward passes\n",
        "        optimizer.step()\n",
        "        optimizer.zero_grad()\n",
        "        \n",
        "        # Step the OneCycleLR scheduler\n",
        "        scheduler.step()\n"
      ],
      "id": "koGqbRkdVVqA"
    },
    {
      "cell_type": "code",
      "execution_count": null,
      "metadata": {
        "id": "UyaMqAY4VlkM"
      },
      "outputs": [],
      "source": [
        "#ReduceLROnPlateau:\n",
        "#ReduceLROnPlateau is used to reduce the learning rate when a certain condition (e.g., validation loss plateau) is met. Here's an example:\n",
        "#import torch\n",
        "#from torch.optim import SGD\n",
        "#from torch.optim.lr_scheduler import ReduceLROnPlateau\n",
        "\n",
        "# Define your model, optimizer, and dataloader\n",
        "#model = ...\n",
        "#optimizer = SGD(model.parameters(), lr=0.1, momentum=0.9)\n",
        "#dataloader = ...\n",
        "\n",
        "# Create the ReduceLROnPlateau scheduler\n",
        "#scheduler = ReduceLROnPlateau(optimizer, mode='min', factor=0.5, patience=5, verbose=True)\n",
        "\n",
        "# Inside your training loop\n",
        "#for epoch in range(num_epochs):\n",
        "    #for batch in dataloader:\n",
        "        # Forward and backward passes\n",
        "        #optimizer.step()\n",
        "        #optimizer.zero_grad()\n",
        "\n",
        "    # Calculate validation loss\n",
        "    #val_loss = validate_model(model, val_dataloader)  # Implement your validation function\n",
        "\n",
        "    # Step the ReduceLROnPlateau scheduler based on validation loss\n",
        "    #scheduler.step(val_loss)\n"
      ],
      "id": "UyaMqAY4VlkM"
    },
    {
      "cell_type": "markdown",
      "metadata": {
        "id": "MkSjo_XfWS5j"
      },
      "source": [
        "Hyperparameter Optimization:\n",
        "\n",
        "Use tools like Bayesian optimization or grid search to fine-tune hyperparameters more efficiently.\n",
        "\n",
        "Fine-tuning hyperparameters using tools like Bayesian optimization or grid search can significantly improve the performance of your machine learning models. Here's how to use these techniques:\n",
        "\n",
        "Grid Search:\n",
        "Grid search is a simple and widely used hyperparameter tuning technique. It involves defining a range of hyperparameters and exhaustively trying all possible combinations. Here's how you can perform grid search using Python and scikit-learn:\n",
        "\n",
        "*****\n",
        "from sklearn.model_selection import GridSearchCV\n",
        "from sklearn.svm import SVC\n",
        "\n",
        "# Define the hyperparameter grid\n",
        "param_grid = {\n",
        "    'C': [0.1, 1, 10],\n",
        "    'kernel': ['linear', 'rbf'],\n",
        "    'gamma': [0.001, 0.01, 0.1]\n",
        "}\n",
        "\n",
        "# Create the model\n",
        "svm = SVC()\n",
        "\n",
        "# Perform grid search with cross-validation\n",
        "grid_search = GridSearchCV(estimator=svm, param_grid=param_grid, cv=5)\n",
        "grid_search.fit(X, y)  # X and y are your data and labels\n",
        "\n",
        "# Get the best hyperparameters\n",
        "best_params = grid_search.best_params_\n",
        "\n",
        "Bayesian Optimization:\n",
        "Bayesian optimization is a more sophisticated method that uses probabilistic models to guide the search for the best hyperparameters. The scikit-optimize library is a popular choice for Bayesian optimization in Python:\n",
        "\n",
        "python\n",
        "\n",
        "*****\n",
        "from skopt import BayesSearchCV\n",
        "from skopt.space import Real, Categorical, Integer\n",
        "\n",
        "# Define the search space for hyperparameters\n",
        "search_space = {\n",
        "    'C': Real(0.1, 10.0, prior='log-uniform'),\n",
        "    'kernel': Categorical(['linear', 'rbf']),\n",
        "    'gamma': Real(0.001, 0.1, prior='log-uniform')\n",
        "}\n",
        "\n",
        "# Create the model\n",
        "svm = SVC()\n",
        "\n",
        "# Perform Bayesian optimization with cross-validation\n",
        "bayes_search = BayesSearchCV(estimator=svm, search_spaces=search_space, cv=5, n_iter=50, random_state=42)\n",
        "bayes_search.fit(X, y)  # X and y are your data and labels\n",
        "\n",
        "# Get the best hyperparameters\n",
        "best_params = bayes_search.best_params_\n"
      ],
      "id": "MkSjo_XfWS5j"
    },
    {
      "cell_type": "code",
      "execution_count": null,
      "metadata": {
        "id": "ZPtw3wtbW6I_"
      },
      "outputs": [],
      "source": [],
      "id": "ZPtw3wtbW6I_"
    }
  ],
  "metadata": {
    "accelerator": "GPU",
    "colab": {
      "machine_shape": "hm",
      "provenance": [],
      "gpuType": "T4"
    },
    "kernelspec": {
      "display_name": "Python 3",
      "name": "python3"
    },
    "language_info": {
      "codemirror_mode": {
        "name": "ipython",
        "version": 3
      },
      "file_extension": ".py",
      "mimetype": "text/x-python",
      "name": "python",
      "nbconvert_exporter": "python",
      "pygments_lexer": "ipython3",
      "version": "3.8.10"
    }
  },
  "nbformat": 4,
  "nbformat_minor": 5
}